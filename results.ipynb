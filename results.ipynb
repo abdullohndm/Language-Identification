{
  "cells": [
    {
      "cell_type": "markdown",
      "metadata": {},
      "source": [
        "### Test the accuracy of the trained model on the final test set\n",
        "\n",
        "> Dataset is downloadable at [this link](https://storage.googleapis.com/google-code-archive-downloads/v2/code.google.com/language-detection/europarl-test.zip)"
      ]
    },
    {
      "cell_type": "code",
      "execution_count": 1,
      "metadata": {
        "collapsed": false,
        "inputHidden": false,
        "outputHidden": false
      },
      "outputs": [],
      "source": [
        "import pandas as pd\n",
        "import numpy as np"
      ]
    },
    {
      "cell_type": "code",
      "execution_count": 2,
      "metadata": {
        "collapsed": false,
        "inputHidden": false,
        "outputHidden": false
      },
      "outputs": [],
      "source": [
        "def normalize_text(row):\n",
        "    \"\"\"make text exmaple \"\"\"\n",
        "    label = '__label__' + str(row['lang'])\n",
        "    txt = str(row['text'])\n",
        "    \n",
        "    return ' '.join(( label + ' , ' + txt ).split())"
      ]
    },
    {
      "cell_type": "code",
      "execution_count": 3,
      "metadata": {
        "collapsed": false,
        "inputHidden": false,
        "outputHidden": false
      },
      "outputs": [],
      "source": [
        "# first lets load the test dataset\n",
        "test = pd.read_csv('data/europarl.test', sep='\\t', names=['lang', 'text'])\n",
        "\n",
        "# next lets normalize the text in the test dataset so it conform with `fastText` format\n",
        "test['normalized'] = test.apply(lambda row: normalize_text(row), axis=1)\n",
        "\n",
        "# finally lets shuffle the examples and save the final test dataset\n",
        "test = test.reindex(np.random.permutation(test.index)).reset_index(drop=True)\n",
        "np.savetxt('data/europarl_normalized.test', test['normalized'].values, fmt='%s')"
      ]
    },
    {
      "cell_type": "markdown",
      "metadata": {},
      "source": [
        "Load the trained model and test its accuracy on the test dataset that just prepared"
      ]
    },
    {
      "cell_type": "code",
      "execution_count": 6,
      "metadata": {
        "collapsed": false,
        "inputHidden": false,
        "outputHidden": false
      },
      "outputs": [
        {
          "name": "stdout",
          "output_type": "stream",
          "text": [
            "P@1: 0.981\n",
            "Number of examples: 20828\n"
          ]
        }
      ],
      "source": [
        "%%bash\n",
        "MODEL=model/europarl.bin\n",
        "TEST=data/europarl_normalized.test\n",
        "\n",
        "./fastText/fasttext test $MODEL $TEST"
      ]
    },
    {
      "cell_type": "markdown",
      "metadata": {},
      "source": [
        "The accuracy on the test datadet is 98.1% while on the validatoin set 98.8% (good enough for production)."
      ]
    }
  ],
  "metadata": {
    "kernel_info": {
      "name": "python2"
    },
    "kernelspec": {
      "display_name": "Python 2",
      "language": "python",
      "name": "python2"
    },
    "language_info": {
      "codemirror_mode": {
        "name": "ipython",
        "version": 2
      },
      "file_extension": ".py",
      "mimetype": "text/x-python",
      "name": "python",
      "nbconvert_exporter": "python",
      "pygments_lexer": "ipython2",
      "version": "2.7.13"
    },
    "nteract": {
      "version": "0.4.3"
    }
  },
  "nbformat": 4,
  "nbformat_minor": 4
}
